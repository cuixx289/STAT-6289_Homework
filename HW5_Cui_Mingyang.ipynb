{
  "nbformat": 4,
  "nbformat_minor": 0,
  "metadata": {
    "colab": {
      "name": "HW5_Cui_Mingyang.ipynb",
      "provenance": [],
      "authorship_tag": "ABX9TyMrBk8Y7hAxaDmcNnMLl3tt",
      "include_colab_link": true
    },
    "kernelspec": {
      "name": "python3",
      "display_name": "Python 3"
    }
  },
  "cells": [
    {
      "cell_type": "markdown",
      "metadata": {
        "id": "view-in-github",
        "colab_type": "text"
      },
      "source": [
        "<a href=\"https://colab.research.google.com/github/cuixx289/STAT-6289_Homework/blob/master/HW5_Cui_Mingyang.ipynb\" target=\"_parent\"><img src=\"https://colab.research.google.com/assets/colab-badge.svg\" alt=\"Open In Colab\"/></a>"
      ]
    },
    {
      "cell_type": "code",
      "metadata": {
        "colab": {
          "base_uri": "https://localhost:8080/"
        },
        "id": "qJ3S_NTHEMBJ",
        "outputId": "700729ff-09c1-4ca6-92cc-424cdb350b6d"
      },
      "source": [
        "# Install Magnitude on Google Colab\n",
        "! echo \"Installing Magnitude.... (please wait, can take a while)\"\n",
        "! (curl https://raw.githubusercontent.com/plasticityai/magnitude/master/install-colab.sh | /bin/bash 1>/dev/null 2>/dev/null)\n",
        "! echo \"Done installing Magnitude.\""
      ],
      "execution_count": 31,
      "outputs": [
        {
          "output_type": "stream",
          "text": [
            "Installing Magnitude.... (please wait, can take a while)\n",
            "  % Total    % Received % Xferd  Average Speed   Time    Time     Time  Current\n",
            "                                 Dload  Upload   Total   Spent    Left  Speed\n",
            "100   137  100   137    0     0    334      0 --:--:-- --:--:-- --:--:--   335\n",
            "Done installing Magnitude.\n"
          ],
          "name": "stdout"
        }
      ]
    },
    {
      "cell_type": "code",
      "metadata": {
        "colab": {
          "base_uri": "https://localhost:8080/"
        },
        "id": "PX43b-olRftD",
        "outputId": "958818f4-90a9-4e2d-c450-b88a2ebb98b3"
      },
      "source": [
        "from google.colab import drive\n",
        "import sys\n",
        "\n",
        "# Mount Google Drive\n",
        "drive.mount('/content/drive')"
      ],
      "execution_count": 46,
      "outputs": [
        {
          "output_type": "stream",
          "text": [
            "Mounted at /content/drive\n"
          ],
          "name": "stdout"
        }
      ]
    },
    {
      "cell_type": "code",
      "metadata": {
        "id": "rjZ2QuH9Ebpu"
      },
      "source": [
        "from pymagnitude import *\n",
        "file_path = '/content/drive/My Drive/projects/GoogleNews-vectors-negative300.magnitude'\n",
        "vectors = Magnitude(file_path)\n"
      ],
      "execution_count": 50,
      "outputs": []
    },
    {
      "cell_type": "markdown",
      "metadata": {
        "id": "gV0PqM5Ybokc"
      },
      "source": [
        "The following code can query the distance of two or multiple keys like so:"
      ]
    },
    {
      "cell_type": "code",
      "metadata": {
        "colab": {
          "base_uri": "https://localhost:8080/"
        },
        "id": "cW0_1SiCE_UE",
        "outputId": "1b241cf3-8d5b-4c5b-c2b8-27b5710b52f5"
      },
      "source": [
        "vectors.distance(\"cat\",'dog')"
      ],
      "execution_count": 51,
      "outputs": [
        {
          "output_type": "execute_result",
          "data": {
            "text/plain": [
              "0.69145405"
            ]
          },
          "metadata": {
            "tags": []
          },
          "execution_count": 51
        }
      ]
    },
    {
      "cell_type": "markdown",
      "metadata": {
        "id": "iCbxC9G9bscc"
      },
      "source": [
        "# Q1\n",
        "The following code can query the dimensions of the vectors like so:"
      ]
    },
    {
      "cell_type": "code",
      "metadata": {
        "colab": {
          "base_uri": "https://localhost:8080/"
        },
        "id": "HA81f8GmShF8",
        "outputId": "20db830b-dd70-4290-a0e7-63de5e3cfb06"
      },
      "source": [
        "vectors.dim"
      ],
      "execution_count": 53,
      "outputs": [
        {
          "output_type": "execute_result",
          "data": {
            "text/plain": [
              "300"
            ]
          },
          "metadata": {
            "tags": []
          },
          "execution_count": 53
        }
      ]
    },
    {
      "cell_type": "markdown",
      "metadata": {
        "id": "yjEecPr3UJCr"
      },
      "source": [
        "The dimensionality of these word embeddings is 300."
      ]
    },
    {
      "cell_type": "markdown",
      "metadata": {
        "id": "BiiMNEOhVQ_g"
      },
      "source": [
        "#Q2 \n",
        "Here, We can query for the most similar (nearest neighbors) keys like so:"
      ]
    },
    {
      "cell_type": "code",
      "metadata": {
        "colab": {
          "base_uri": "https://localhost:8080/"
        },
        "id": "P1CS7mMAUOmo",
        "outputId": "4f2fca3d-7f9d-4eed-c0c7-7d576738dda2"
      },
      "source": [
        "vectors.most_similar(\"picnic\", topn = 6) # Most similar by key\n",
        "vectors.most_similar(vectors.query(\"picnic\"), topn = 6) # Most similar by vector"
      ],
      "execution_count": 55,
      "outputs": [
        {
          "output_type": "execute_result",
          "data": {
            "text/plain": [
              "[('picnic', 0.9999998),\n",
              " ('picnics', 0.7400875),\n",
              " ('picnic_lunch', 0.721374),\n",
              " ('Picnic', 0.700534),\n",
              " ('potluck_picnic', 0.6683274),\n",
              " ('picnic_supper', 0.65189123)]"
            ]
          },
          "metadata": {
            "tags": []
          },
          "execution_count": 55
        }
      ]
    },
    {
      "cell_type": "markdown",
      "metadata": {
        "id": "72lz9vJpUsSL"
      },
      "source": [
        "The  top-5 most similar words to picnic are:\n",
        "\n",
        "picnics\n",
        "\n",
        "picnic_lunch\n",
        "\n",
        "Picnic\n",
        "\n",
        "potluck_picnic\n",
        "\n",
        "picnic_supper"
      ]
    },
    {
      "cell_type": "markdown",
      "metadata": {
        "id": "QlTuR5qQWEIK"
      },
      "source": [
        "# Q3.\n",
        "The following code can query for which key doesn't match a list of keys to a given key like so:"
      ]
    },
    {
      "cell_type": "code",
      "metadata": {
        "colab": {
          "base_uri": "https://localhost:8080/",
          "height": 35
        },
        "id": "25qCuXAkU-Y9",
        "outputId": "b133f0a2-8f3a-4884-ede1-093b8aefc039"
      },
      "source": [
        "vectors.doesnt_match(['tissue', 'papyrus','manila', 'newsprint', 'parchment', 'gazette']) "
      ],
      "execution_count": 56,
      "outputs": [
        {
          "output_type": "execute_result",
          "data": {
            "application/vnd.google.colaboratory.intrinsic+json": {
              "type": "string"
            },
            "text/plain": [
              "'tissue'"
            ]
          },
          "metadata": {
            "tags": []
          },
          "execution_count": 56
        }
      ]
    },
    {
      "cell_type": "markdown",
      "metadata": {
        "id": "vbXnes9_WR6S"
      },
      "source": [
        "Here, the word 'tissue' is not like the other 5 words."
      ]
    },
    {
      "cell_type": "markdown",
      "metadata": {
        "id": "3GyeUet3W0cV"
      },
      "source": [
        "# Q4\n",
        "The following code can query for the most similar keys giving positive and negative examples (which, incidentally, solves analogies), like so:"
      ]
    },
    {
      "cell_type": "code",
      "metadata": {
        "colab": {
          "base_uri": "https://localhost:8080/"
        },
        "id": "73zNtd0DXYd6",
        "outputId": "aca39423-9ad0-430c-cc9d-35309db9e0aa"
      },
      "source": [
        "vectors.most_similar(positive = [\"leg\",\"throw\"], negative = [\"jump\"]) "
      ],
      "execution_count": 70,
      "outputs": [
        {
          "output_type": "execute_result",
          "data": {
            "text/plain": [
              "[('forearm', 0.48294652),\n",
              " ('shin', 0.47376165),\n",
              " ('elbow', 0.4679689),\n",
              " ('metacarpal_bone', 0.46781474),\n",
              " ('metacarpal_bones', 0.46605822),\n",
              " ('ankle', 0.46434426),\n",
              " ('shoulder', 0.46183354),\n",
              " ('thigh', 0.45393682),\n",
              " ('knee', 0.4455707),\n",
              " ('ulna_bone', 0.4423491)]"
            ]
          },
          "metadata": {
            "tags": []
          },
          "execution_count": 70
        }
      ]
    },
    {
      "cell_type": "markdown",
      "metadata": {
        "id": "1B5FqG7Oa4JU"
      },
      "source": [
        "leg is to jump as forearm is to throw."
      ]
    }
  ]
}