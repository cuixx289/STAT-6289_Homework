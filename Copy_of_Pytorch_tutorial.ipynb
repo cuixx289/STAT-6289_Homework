{
  "nbformat": 4,
  "nbformat_minor": 0,
  "metadata": {
    "colab": {
      "name": "Copy of Pytorch tutorial.ipynb",
      "provenance": [],
      "authorship_tag": "ABX9TyPnRfeGbzpWXMfNWq9fUo2J",
      "include_colab_link": true
    },
    "kernelspec": {
      "name": "python3",
      "display_name": "Python 3"
    },
    "accelerator": "GPU"
  },
  "cells": [
    {
      "cell_type": "markdown",
      "metadata": {
        "id": "view-in-github",
        "colab_type": "text"
      },
      "source": [
        "<a href=\"https://colab.research.google.com/github/cuixx289/psychic-chainsaw/blob/master/Copy_of_Pytorch_tutorial.ipynb\" target=\"_parent\"><img src=\"https://colab.research.google.com/assets/colab-badge.svg\" alt=\"Open In Colab\"/></a>"
      ]
    },
    {
      "cell_type": "markdown",
      "metadata": {
        "id": "oi-qBS-Xx1pX"
      },
      "source": [
        "# PyTorch Tutorial\n",
        "\n",
        "Mingyang Cui\n",
        "\n",
        "Step 29, 2020\n",
        "\n",
        "\n"
      ]
    },
    {
      "cell_type": "markdown",
      "metadata": {
        "id": "7jm-LAa-yqZv"
      },
      "source": [
        "# Python Object\n",
        "\n",
        "List:"
      ]
    },
    {
      "cell_type": "code",
      "metadata": {
        "id": "qB50J9Weysqz",
        "outputId": "801abe0e-241f-4f61-94cb-f1c524af7a86",
        "colab": {
          "base_uri": "https://localhost:8080/",
          "height": 35
        }
      },
      "source": [
        "[4,5,6]"
      ],
      "execution_count": null,
      "outputs": [
        {
          "output_type": "execute_result",
          "data": {
            "text/plain": [
              "[4, 5, 6]"
            ]
          },
          "metadata": {
            "tags": []
          },
          "execution_count": 1
        }
      ]
    },
    {
      "cell_type": "markdown",
      "metadata": {
        "id": "WllsJjoOzgBe"
      },
      "source": [
        "Tuple:"
      ]
    },
    {
      "cell_type": "code",
      "metadata": {
        "id": "bRYze2g_zhhD",
        "outputId": "a5e0a6db-9f83-46d8-cb4a-ef89fe95fdc5",
        "colab": {
          "base_uri": "https://localhost:8080/",
          "height": 35
        }
      },
      "source": [
        "(4,5,6)"
      ],
      "execution_count": null,
      "outputs": [
        {
          "output_type": "execute_result",
          "data": {
            "text/plain": [
              "(4, 5, 6)"
            ]
          },
          "metadata": {
            "tags": []
          },
          "execution_count": 3
        }
      ]
    },
    {
      "cell_type": "markdown",
      "metadata": {
        "id": "OMb_-6uvz_6p"
      },
      "source": [
        "Set:"
      ]
    },
    {
      "cell_type": "code",
      "metadata": {
        "id": "HJNXm5uL0B5w",
        "outputId": "1e97a364-a540-4eea-c117-4441522432a6",
        "colab": {
          "base_uri": "https://localhost:8080/",
          "height": 35
        }
      },
      "source": [
        "{4,5,6,'a','b','c',2,4,5}"
      ],
      "execution_count": null,
      "outputs": [
        {
          "output_type": "execute_result",
          "data": {
            "text/plain": [
              "{2, 4, 5, 6, 'a', 'b', 'c'}"
            ]
          },
          "metadata": {
            "tags": []
          },
          "execution_count": 5
        }
      ]
    },
    {
      "cell_type": "markdown",
      "metadata": {
        "id": "tX89ebko0YZz"
      },
      "source": [
        "Dictionary "
      ]
    },
    {
      "cell_type": "code",
      "metadata": {
        "id": "aXzCyzQr0bdt",
        "outputId": "a54b6957-7d76-4189-dd7b-743b610a5da3",
        "colab": {
          "base_uri": "https://localhost:8080/",
          "height": 35
        }
      },
      "source": [
        "a = {'a':4,'b':5,'c':6}\n",
        "a['b']"
      ],
      "execution_count": null,
      "outputs": [
        {
          "output_type": "execute_result",
          "data": {
            "text/plain": [
              "5"
            ]
          },
          "metadata": {
            "tags": []
          },
          "execution_count": 6
        }
      ]
    },
    {
      "cell_type": "markdown",
      "metadata": {
        "id": "h6NaVhdJ0swX"
      },
      "source": [
        "Loop & Index:"
      ]
    },
    {
      "cell_type": "code",
      "metadata": {
        "id": "wElURaEf0veC",
        "outputId": "017434f6-2653-44ad-8850-30205b109eae",
        "colab": {
          "base_uri": "https://localhost:8080/",
          "height": 104
        }
      },
      "source": [
        "for i in range(5):\n",
        "  i = i+1\n",
        "  print(i)"
      ],
      "execution_count": null,
      "outputs": [
        {
          "output_type": "stream",
          "text": [
            "1\n",
            "2\n",
            "3\n",
            "4\n",
            "5\n"
          ],
          "name": "stdout"
        }
      ]
    },
    {
      "cell_type": "markdown",
      "metadata": {
        "id": "65P1lRTG1OzP"
      },
      "source": [
        "# PyTorch\n",
        "\n",
        "PyTorch is an open source machine learning framework. At its core, PyTorch provides a few key features:\n",
        "\n",
        "\n",
        "1.A multidimensional Tensor object, similar to numpy but with GPU accelleration.\n",
        "\n",
        "2.An optimized autograd engine for automatically computing derivatives\n",
        "\n",
        "3.A clean, modular API for building and deploying deep learning models\n",
        "\n",
        "You can find more information about PyTorch by following one of the official tutorials or by reading the documentation.\n",
        "\n",
        "\n",
        "To use PyTorch, we first need to import the torch package."
      ]
    },
    {
      "cell_type": "code",
      "metadata": {
        "id": "OkFC7BPy1eXk",
        "outputId": "2d9c594e-5abb-4d25-8841-f677bc8440b1",
        "colab": {
          "base_uri": "https://localhost:8080/",
          "height": 35
        }
      },
      "source": [
        "import torch\n",
        "print(torch.__version__)"
      ],
      "execution_count": null,
      "outputs": [
        {
          "output_type": "stream",
          "text": [
            "1.6.0+cu101\n"
          ],
          "name": "stdout"
        }
      ]
    },
    {
      "cell_type": "markdown",
      "metadata": {
        "id": "EqF6S85z2ZyF"
      },
      "source": [
        "# 1.Tensor Basics\n",
        "\n",
        "Creating and Accessing tensors\n",
        "\n",
        "A torch tensor is a multidimensional grid of values, all of the same type, and is indexed by a tuple of nonnegative integers. The number of dimensions is the rank of the tensor; the shape of a tensor is a tuple of integers giving the size of the array along each dimension.\n",
        "\n",
        "We can initialize torch tensor from nested Python lists. We can access or mutate elements of a PyTorch tensor using square brackets.\n",
        "\n",
        "Accessing an element from a PyTorch tensor returns a PyTorch scalar; we can convert this to a Python scalar using the .item() method:"
      ]
    },
    {
      "cell_type": "code",
      "metadata": {
        "id": "EtLOYp3224GN",
        "outputId": "f6a28e2d-d561-49fc-91f6-ac40335efe21",
        "colab": {
          "base_uri": "https://localhost:8080/",
          "height": 191
        }
      },
      "source": [
        "# Create a two-dimensional tensor\n",
        "b = torch.tensor([[0, 1, 2], [3,4,5]])\n",
        "print('Here is b:',b)\n",
        "print('The rank of b is:', b.dim())\n",
        "print('The b.shape is: ', b.shape)\n",
        "\n",
        "# Access elements from a multidimensional tensor\n",
        "print()\n",
        "print('b[0, 2]:', b[0, 2])\n",
        "print('b[1, 1]:', b[1, 1])\n",
        "\n",
        "# Mutate elements of a multidimensional tensor\n",
        "b[1, 1] = 9\n",
        "print() \n",
        "print('b after mutating:',b)"
      ],
      "execution_count": null,
      "outputs": [
        {
          "output_type": "stream",
          "text": [
            "Here is b: tensor([[0, 1, 2],\n",
            "        [3, 4, 5]])\n",
            "The rank of b is: 2\n",
            "The b.shape is:  torch.Size([2, 3])\n",
            "\n",
            "b[0, 2]: tensor(2)\n",
            "b[1, 1]: tensor(4)\n",
            "\n",
            "b after mutating: tensor([[0, 1, 2],\n",
            "        [3, 9, 5]])\n"
          ],
          "name": "stdout"
        }
      ]
    },
    {
      "cell_type": "markdown",
      "metadata": {
        "id": "bZzKHiSn4ERm"
      },
      "source": [
        "\n",
        "# Tensor constructors\n",
        "\n",
        "PyTorch provides many convenience methods for constructing tensors; this avoids the need to use Python lists. \n",
        "\n",
        "torch.zeros: Creates a tensor of all zeros\n",
        "torch.ones: Creates a tensor of all ones\n",
        "torch.rand: Creates a tensor with uniform random numbers"
      ]
    },
    {
      "cell_type": "code",
      "metadata": {
        "id": "AxZDM8Dl4PTk",
        "outputId": "0a2aa710-beac-4eef-ceb3-2e394bc26d06",
        "colab": {
          "base_uri": "https://localhost:8080/",
          "height": 347
        }
      },
      "source": [
        "# Create a tensor of all zeros\n",
        "a = torch.zeros(2, 3)\n",
        "print('tensor of zeros:\\n',a)\n",
        "\n",
        "# Create a tensor of all ones\n",
        "b = torch.ones(1, 2)\n",
        "print('\\ntensor of ones:\\n',b)\n",
        "\n",
        "# Create a 4x4 identity matrix\n",
        "c = torch.eye(4)\n",
        "print('\\nidentity matrix:\\n',c)\n",
        "\n",
        "# Tensor of random values\n",
        "d = torch.rand(5, 6)\n",
        "print('\\nrandom tensor:\\n',d)\n"
      ],
      "execution_count": null,
      "outputs": [
        {
          "output_type": "stream",
          "text": [
            "tensor of zeros:\n",
            " tensor([[0., 0., 0.],\n",
            "        [0., 0., 0.]])\n",
            "\n",
            "tensor of ones:\n",
            " tensor([[1., 1.]])\n",
            "\n",
            "identity matrix:\n",
            " tensor([[1., 0., 0., 0.],\n",
            "        [0., 1., 0., 0.],\n",
            "        [0., 0., 1., 0.],\n",
            "        [0., 0., 0., 1.]])\n",
            "\n",
            "random tensor:\n",
            " tensor([[0.5075, 0.7186, 0.1237, 0.7745, 0.8763, 0.1630],\n",
            "        [0.6456, 0.5508, 0.2588, 0.2919, 0.8370, 0.3563],\n",
            "        [0.1753, 0.6445, 0.5912, 0.4226, 0.0853, 0.3655],\n",
            "        [0.0161, 0.7670, 0.4772, 0.0752, 0.9582, 0.7318],\n",
            "        [0.3085, 0.5389, 0.8767, 0.4821, 0.6292, 0.0942]])\n"
          ],
          "name": "stdout"
        }
      ]
    },
    {
      "cell_type": "markdown",
      "metadata": {
        "id": "mdB34Ps25Ldo"
      },
      "source": [
        "# Datatypes\n",
        "\n",
        "In the examples above, you may have noticed that some of our tensors contained floating-point values, while others contained integer values.\n",
        "\n",
        "PyTorch provides a large set of numeric datatypes that you can use to construct tensors. PyTorch tries to guess a datatype when you create a tensor; functions that construct tensors typically have a dtype argument that you can use to explicitly specify a datatype.\n",
        "\n",
        "Each tensor has a dtype attribute that you can use to check its data type:"
      ]
    },
    {
      "cell_type": "code",
      "metadata": {
        "id": "XJqbuhMP5N8x",
        "outputId": "f4eecb9d-9e7b-45f6-eca3-582daed2d43b",
        "colab": {
          "base_uri": "https://localhost:8080/",
          "height": 173
        }
      },
      "source": [
        "# Let torch choose the datatype\n",
        "a = torch.tensor([5, 7])   # List of integers\n",
        "b = torch.tensor([5.24, 7.58]) # List of floats\n",
        "c = torch.tensor([5.24, 7])  # Mixed list\n",
        "print('dtype when torch chooses for us:')\n",
        "print('List of integers:', a.dtype)\n",
        "print('List of floats:', b.dtype)\n",
        "print('Mixed list:', c.dtype)\n",
        "\n",
        "# Force a particular datatype\n",
        "e = torch.tensor([0, 1], dtype=torch.float32)  # 32-bit float\n",
        "f = torch.tensor([0, 1], dtype=torch.int32)    # 32-bit (signed) integer\n",
        "g = torch.tensor([0, 1], dtype=torch.int64)    # 64-bit (signed) integer\n",
        "print('\\ndtype when we force a datatype:')\n",
        "print('32-bit float: ', e.dtype)\n",
        "print('32-bit integer: ', f.dtype)\n",
        "print('64-bit integer: ', g.dtype)"
      ],
      "execution_count": null,
      "outputs": [
        {
          "output_type": "stream",
          "text": [
            "dtype when torch chooses for us:\n",
            "List of integers: torch.int64\n",
            "List of floats: torch.float32\n",
            "Mixed list: torch.float32\n",
            "\n",
            "dtype when we force a datatype:\n",
            "32-bit float:  torch.float32\n",
            "32-bit integer:  torch.int32\n",
            "64-bit integer:  torch.int64\n"
          ],
          "name": "stdout"
        }
      ]
    },
    {
      "cell_type": "markdown",
      "metadata": {
        "id": "SecCuWpL63Kv"
      },
      "source": [
        "Cast a tensor to another datatype using the .char(), .float() and .double() that cast to particular datatypes:"
      ]
    },
    {
      "cell_type": "code",
      "metadata": {
        "id": "-y9KK9yZ7EB9",
        "outputId": "571ecf06-76fa-4546-ec74-d62afc308a7e",
        "colab": {
          "base_uri": "https://localhost:8080/",
          "height": 87
        }
      },
      "source": [
        "x0 = torch.eye(8, dtype=torch.int64)\n",
        "x1 = x0.float()  # Cast to 32-bit float\n",
        "x2 = x0.double() # Cast to 64-bit float\n",
        "x3 = x0.char()   # Cast to 8-bit int\n",
        "print('x0:', x0.dtype)\n",
        "print('x1:', x1.dtype)\n",
        "print('x2:', x2.dtype)\n",
        "print('x3:', x3.dtype)"
      ],
      "execution_count": null,
      "outputs": [
        {
          "output_type": "stream",
          "text": [
            "x0: torch.int64\n",
            "x1: torch.float32\n",
            "x2: torch.float64\n",
            "x3: torch.int8\n"
          ],
          "name": "stdout"
        }
      ]
    },
    {
      "cell_type": "markdown",
      "metadata": {
        "id": "ijAdlnsY8XAH"
      },
      "source": [
        "PyTorch provides several ways to create a tensor with the same datatype as another tensor:\n",
        "\n",
        "PyTorch provides tensor constructors such as torch.new_zeros() that create new tensors with the same shape and type as a given tensor\n",
        "\n",
        "Tensor objects have instance methods such as .new_zeros() that create tensors the same type but possibly different shapes\n",
        "\n",
        "The tensor instance method .to() can take a tensor as an argument, in which case it casts to the datatype of the argument."
      ]
    },
    {
      "cell_type": "code",
      "metadata": {
        "id": "jhDDmNWd8bj4",
        "outputId": "b12bad41-7145-449a-bd86-59b7c64a8ca0",
        "colab": {
          "base_uri": "https://localhost:8080/",
          "height": 87
        }
      },
      "source": [
        "x0 = torch.eye(5, dtype=torch.float64)  # Shape (5, 5), dtype torch.float64\n",
        "x1 = torch.zeros_like(x0)               # Shape (5, 5), dtype torch.float64\n",
        "x2 = x0.new_zeros(3, 4)                 # Shape (3, 4), dtype torch.float64\n",
        "x3 = torch.ones(5, 6).to(x0)            # Shape (5, 6), dtype torch.float64)\n",
        "print('x0 shape is %r, dtype is %r' % (x0.shape, x0.dtype))\n",
        "print('x1 shape is %r, dtype is %r' % (x1.shape, x1.dtype))\n",
        "print('x2 shape is %r, dtype is %r' % (x2.shape, x2.dtype))\n",
        "print('x3 shape is %r, dtype is %r' % (x3.shape, x3.dtype))"
      ],
      "execution_count": null,
      "outputs": [
        {
          "output_type": "stream",
          "text": [
            "x0 shape is torch.Size([5, 5]), dtype is torch.float64\n",
            "x1 shape is torch.Size([5, 5]), dtype is torch.float64\n",
            "x2 shape is torch.Size([3, 4]), dtype is torch.float64\n",
            "x3 shape is torch.Size([5, 6]), dtype is torch.float64\n"
          ],
          "name": "stdout"
        }
      ]
    },
    {
      "cell_type": "markdown",
      "metadata": {
        "id": "c7W9_HJr8wD_"
      },
      "source": [
        "Even though PyTorch provides a large number of numeric datatypes, the most commonly used datatypes are:\n",
        "\n",
        "torch.float32: Standard floating-point type; used to store learnable parameters, network activations, etc. Nearly all arithmetic is done using this type.\n",
        "\n",
        "torch.int64: Typically used to store indices\n",
        "\n",
        "torch.uint8: Typically used to store boolean values, where 0 is false and 1 is true.\n",
        "\n",
        "\n",
        "\n",
        "# 2.Tensor indexing\n",
        "\n",
        "We have already seen how to get and set individual elements of PyTorch tensors. PyTorch also provides many other ways of indexing into tensors. Getting comfortable with these different options makes it easy to modify different parts of tensors with ease.\n",
        "\n",
        "Slice indexing\n",
        "Similar to Python lists and numpy arrays, PyTorch tensors can be sliced using the syntax start:stop or start:stop:step. The stop index is always non-inclusive: it is the first element not to be included in the slice.\n",
        "\n",
        "Start and stop indices can be negative, in which case they count backward from the end of the tensor."
      ]
    },
    {
      "cell_type": "code",
      "metadata": {
        "id": "6nTbHiWP84pT",
        "outputId": "9ba076ea-7094-4b4e-f6fa-a1d1c87bbe50",
        "colab": {
          "base_uri": "https://localhost:8080/",
          "height": 156
        }
      },
      "source": [
        "a = torch.tensor([0, 1, 27, 32.4, 0.24, 3, 12,7.8])\n",
        "print(0, a)        # (0) Original tensor\n",
        "print(1, a[2:5])   # (1) Elements between index 2 and 5\n",
        "print(2, a[3:])    # (2) Elements after index 3\n",
        "print(3, a[:4])    # (3) Elements before index 4\n",
        "print(4, a[:])     # (4) All elements\n",
        "print(5, a[1:6:3]) # (5) Every third element between indices 1 and 6\n",
        "print(6, a[:-1])   # (6) All but the last element\n",
        "print(7, a[-4::2]) # (7) Every second element, starting from the fourth-last"
      ],
      "execution_count": null,
      "outputs": [
        {
          "output_type": "stream",
          "text": [
            "0 tensor([ 0.0000,  1.0000, 27.0000, 32.4000,  0.2400,  3.0000, 12.0000,  7.8000])\n",
            "1 tensor([27.0000, 32.4000,  0.2400])\n",
            "2 tensor([32.4000,  0.2400,  3.0000, 12.0000,  7.8000])\n",
            "3 tensor([ 0.0000,  1.0000, 27.0000, 32.4000])\n",
            "4 tensor([ 0.0000,  1.0000, 27.0000, 32.4000,  0.2400,  3.0000, 12.0000,  7.8000])\n",
            "5 tensor([1.0000, 0.2400])\n",
            "6 tensor([ 0.0000,  1.0000, 27.0000, 32.4000,  0.2400,  3.0000, 12.0000])\n",
            "7 tensor([ 0.2400, 12.0000])\n"
          ],
          "name": "stdout"
        }
      ]
    },
    {
      "cell_type": "code",
      "metadata": {
        "id": "yGng-zCKABFs",
        "outputId": "80621ea1-9a50-4f39-a413-068f91b30d3a",
        "colab": {
          "base_uri": "https://localhost:8080/",
          "height": 260
        }
      },
      "source": [
        "# Create the following rank 2 tensor with shape (3, 4)\n",
        "a = torch.tensor([[0,1.2,43,3.56], [5,6,7,8], [2.2,0.23,8.8,2.89]])\n",
        "print('Original tensor')\n",
        "print(a)\n",
        "\n",
        "row_r1 = a[1, :]    # Rank 1 view of the second row of a  \n",
        "row_r2 = a[1:2, :]  # Rank 2 view of the second row of a\n",
        "print('\\nTwo ways of accessing a single row:')\n",
        "print(row_r1, row_r1.shape)\n",
        "print(row_r2, row_r2.shape)\n",
        "\n",
        "# We can make the same distinction when accessing columns::\n",
        "col_r1 = a[:, 1]\n",
        "col_r2 = a[:, 1:2]\n",
        "print('\\nTwo ways of accessing a single column:')\n",
        "print(col_r1, col_r1.shape)\n",
        "print(col_r2, col_r2.shape)"
      ],
      "execution_count": null,
      "outputs": [
        {
          "output_type": "stream",
          "text": [
            "Original tensor\n",
            "tensor([[ 0.0000,  1.2000, 43.0000,  3.5600],\n",
            "        [ 5.0000,  6.0000,  7.0000,  8.0000],\n",
            "        [ 2.2000,  0.2300,  8.8000,  2.8900]])\n",
            "\n",
            "Two ways of accessing a single row:\n",
            "tensor([5., 6., 7., 8.]) torch.Size([4])\n",
            "tensor([[5., 6., 7., 8.]]) torch.Size([1, 4])\n",
            "\n",
            "Two ways of accessing a single column:\n",
            "tensor([1.2000, 6.0000, 0.2300]) torch.Size([3])\n",
            "tensor([[1.2000],\n",
            "        [6.0000],\n",
            "        [0.2300]]) torch.Size([3, 1])\n"
          ],
          "name": "stdout"
        }
      ]
    },
    {
      "cell_type": "code",
      "metadata": {
        "id": "AzoTAToSB-Ht",
        "outputId": "27f78b44-8e4d-4c5b-f483-d9c7acd1a0da",
        "colab": {
          "base_uri": "https://localhost:8080/",
          "height": 225
        }
      },
      "source": [
        "# Create a tensor, a slice, and a clone of a slice\n",
        "a = torch.tensor([[1, 2, 3, 4, 5, 6], [7, 8, 9, 10, 11, 12]])\n",
        "b = a[1, 2:]\n",
        "c = a[1, 2:].clone()\n",
        "print('Before mutating:')\n",
        "print(a)\n",
        "print(b)\n",
        "print(c)\n",
        "\n",
        "a[1, 2] = 122  # a[1, 2] and b[0] point to the same element\n",
        "b[1] = 130     # b[1] and a[1, 3] point to the same element\n",
        "c[1] = 540     # c is a clone, so it has its own data\n",
        "print('\\nAfter mutating:')\n",
        "print(a)\n",
        "print(b)\n",
        "print(c)\n",
        "\n",
        "print(a.storage().data_ptr() == c.storage().data_ptr())"
      ],
      "execution_count": null,
      "outputs": [
        {
          "output_type": "stream",
          "text": [
            "Before mutating:\n",
            "tensor([[ 1,  2,  3,  4,  5,  6],\n",
            "        [ 7,  8,  9, 10, 11, 12]])\n",
            "tensor([ 9, 10, 11, 12])\n",
            "tensor([ 9, 10, 11, 12])\n",
            "\n",
            "After mutating:\n",
            "tensor([[  1,   2,   3,   4,   5,   6],\n",
            "        [  7,   8, 122, 130,  11,  12]])\n",
            "tensor([122, 130,  11,  12])\n",
            "tensor([  9, 540,  11,  12])\n",
            "False\n"
          ],
          "name": "stdout"
        }
      ]
    },
    {
      "cell_type": "markdown",
      "metadata": {
        "id": "xipAy_HJFGOp"
      },
      "source": [
        "**Integer** tensor indexing\n",
        "\n",
        "When you index into torch tensor using slicing, the resulting tensor view will always be a subarray of the original tensor. This is powerful, but can be restrictive.\n",
        "\n",
        "We can also use index arrays to index tensors; this lets us construct new tensors with a lot more flexibility than using slices.\n",
        "\n",
        "As an example, we can use index arrays to reorder the rows or columns of a tensor:"
      ]
    },
    {
      "cell_type": "code",
      "metadata": {
        "id": "q55a-b-ME43a",
        "outputId": "2d20b6eb-d650-4186-e800-2801bb1c4296",
        "colab": {
          "base_uri": "https://localhost:8080/",
          "height": 295
        }
      },
      "source": [
        "# Create the following rank 2 tensor with shape (3, 4)\n",
        "# [[ 1  2  3  4]\n",
        "#  [ 5  6  7  8]\n",
        "#  [ 9 10 11 12]]\n",
        "a = torch.tensor([[1, 2, 3, 4, 5], [6, 7, 8, 9, 10], [11, 12, 13, 14, 15]])\n",
        "print('Original tensor:')\n",
        "print(a)\n",
        "\n",
        "# Create a new tensor of shape (5, 5) by reordering rows from a:\n",
        "# - First two rows same as the first row of a\n",
        "# - Third row is the same as the last row of a\n",
        "# - Fourth and fifth rows are the same as the second row from a\n",
        "idx = [0, 1, 0, 2, 2]  # index arrays can be Python lists of integers\n",
        "print('\\nReordered rows:')\n",
        "print(a[idx])\n",
        "\n",
        "# Create a new tensor of shape (3, 4) by reversing the columns from a\n",
        "idx = torch.tensor([4, 3, 2, 1, 0])  # Index arrays can be int64 torch tensors\n",
        "print('\\nReordered columns:')\n",
        "print(a[:, idx])"
      ],
      "execution_count": null,
      "outputs": [
        {
          "output_type": "stream",
          "text": [
            "Original tensor:\n",
            "tensor([[ 1,  2,  3,  4,  5],\n",
            "        [ 6,  7,  8,  9, 10],\n",
            "        [11, 12, 13, 14, 15]])\n",
            "\n",
            "Reordered rows:\n",
            "tensor([[ 1,  2,  3,  4,  5],\n",
            "        [ 6,  7,  8,  9, 10],\n",
            "        [ 1,  2,  3,  4,  5],\n",
            "        [11, 12, 13, 14, 15],\n",
            "        [11, 12, 13, 14, 15]])\n",
            "\n",
            "Reordered columns:\n",
            "tensor([[ 5,  4,  3,  2,  1],\n",
            "        [10,  9,  8,  7,  6],\n",
            "        [15, 14, 13, 12, 11]])\n"
          ],
          "name": "stdout"
        }
      ]
    },
    {
      "cell_type": "code",
      "metadata": {
        "id": "-I8kjJxnGPYP",
        "outputId": "9c934010-d281-430a-e31e-b2a64d618916",
        "colab": {
          "base_uri": "https://localhost:8080/",
          "height": 225
        }
      },
      "source": [
        "a = torch.tensor([[3, 4, 5], [2, 1, 2], [5, 6, 3]])\n",
        "print('Original tensor:')\n",
        "print(a)\n",
        "\n",
        "idx = [0, 1, 0]\n",
        "print('\\nGet the diagonal:')\n",
        "print(a[idx, idx])\n",
        "\n",
        "# Modify the diagonal\n",
        "a[idx, idx] = torch.tensor([56, 34, 22])\n",
        "print('\\nAfter setting the diagonal:')\n",
        "print(a)"
      ],
      "execution_count": null,
      "outputs": [
        {
          "output_type": "stream",
          "text": [
            "Original tensor:\n",
            "tensor([[3, 4, 5],\n",
            "        [2, 1, 2],\n",
            "        [5, 6, 3]])\n",
            "\n",
            "Get the diagonal:\n",
            "tensor([3, 1, 3])\n",
            "\n",
            "After setting the diagonal:\n",
            "tensor([[22,  4,  5],\n",
            "        [ 2, 34,  2],\n",
            "        [ 5,  6,  3]])\n"
          ],
          "name": "stdout"
        }
      ]
    },
    {
      "cell_type": "code",
      "metadata": {
        "id": "de-aZGhBGgxZ",
        "outputId": "9ea857fb-bc63-4f39-ef9d-fd9217f75667",
        "colab": {
          "base_uri": "https://localhost:8080/",
          "height": 260
        }
      },
      "source": [
        "# Create a new tensor from which we will select elements\n",
        "a = torch.tensor([[1, 2, 3], [4, 5, 6], [7, 8, 9], [10, 11, 12]])\n",
        "print('Original tensor:')\n",
        "print(a)\n",
        "\n",
        "# Take on element from each row of a:\n",
        "# from row 0, take element 1;\n",
        "# from row 1, take element 0;\n",
        "# from row 2, take element 2;\n",
        "# from row 3, take element 2;\n",
        "idx0 = torch.arange(a.shape[0])  # Quick way to build [0, 1, 2, 3]\n",
        "idx1 = torch.tensor([1, 0, 2, 2])\n",
        "print('\\nSelect one element from each row:')\n",
        "print(a[idx0, idx1])\n",
        "\n",
        "# Now set each of those elements to zero\n",
        "a[idx0, idx1] = 0\n",
        "print('\\nAfter modifying one element from each row:')\n",
        "print(a)"
      ],
      "execution_count": null,
      "outputs": [
        {
          "output_type": "stream",
          "text": [
            "Original tensor:\n",
            "tensor([[ 1,  2,  3],\n",
            "        [ 4,  5,  6],\n",
            "        [ 7,  8,  9],\n",
            "        [10, 11, 12]])\n",
            "\n",
            "Select one element from each row:\n",
            "tensor([ 2,  4,  9, 12])\n",
            "\n",
            "After modifying one element from each row:\n",
            "tensor([[ 1,  0,  3],\n",
            "        [ 0,  5,  6],\n",
            "        [ 7,  8,  0],\n",
            "        [10, 11,  0]])\n"
          ],
          "name": "stdout"
        }
      ]
    },
    {
      "cell_type": "markdown",
      "metadata": {
        "id": "MPC23uXCGlPD"
      },
      "source": [
        "# Boolean tensor indexing\n",
        "\n",
        "Boolean tensor indexing lets you pick out arbitrary elements of a tensor according to a boolean mask. Frequently this type of indexing is used to select or modify the elements of a tensor that satisfy some condition.\n",
        "\n",
        "In PyTorch, we use tensors of dtype torch.uint8 to hold boolean masks; 0 means false and 1 means true."
      ]
    },
    {
      "cell_type": "code",
      "metadata": {
        "id": "v0aP76eXGqTj",
        "outputId": "e99c6622-8043-4ca6-cf2a-10bd6ff9d6e5",
        "colab": {
          "base_uri": "https://localhost:8080/",
          "height": 364
        }
      },
      "source": [
        "x = torch.tensor([[0, 1, 2], [3, 3, 3], [2, 4, 6]])\n",
        "print('Original tensor:')\n",
        "print(a)\n",
        "\n",
        "# Find the elements of a that are bigger than 2. The mask has the same shape as\n",
        "# a, where each element of mask tells whether the corresponding element of a\n",
        "# is greater than three.\n",
        "mask = (a > 2)\n",
        "print('\\nMask tensor:')\n",
        "print(mask)\n",
        "\n",
        "# We can use the mask to construct a rank-1 tensor containing the elements of a\n",
        "# that are selected by the mask\n",
        "print('\\nSelecting elements with the mask:')\n",
        "print(a[mask])\n",
        "\n",
        "# We can also use boolean masks to modify tensors; for example this sets all\n",
        "# elements <= 3 to zero:\n",
        "a[a <= 2] = 0\n",
        "print('\\nAfter modifying with a mask:')\n",
        "print(a)"
      ],
      "execution_count": null,
      "outputs": [
        {
          "output_type": "stream",
          "text": [
            "Original tensor:\n",
            "tensor([[ 0,  0,  0],\n",
            "        [ 0,  5,  6],\n",
            "        [ 7,  8,  0],\n",
            "        [10, 11,  0]])\n",
            "\n",
            "Mask tensor:\n",
            "tensor([[False, False, False],\n",
            "        [False,  True,  True],\n",
            "        [ True,  True, False],\n",
            "        [ True,  True, False]])\n",
            "\n",
            "Selecting elements with the mask:\n",
            "tensor([ 5,  6,  7,  8, 10, 11])\n",
            "\n",
            "After modifying with a mask:\n",
            "tensor([[ 0,  0,  0],\n",
            "        [ 0,  5,  6],\n",
            "        [ 7,  8,  0],\n",
            "        [10, 11,  0]])\n"
          ],
          "name": "stdout"
        }
      ]
    },
    {
      "cell_type": "markdown",
      "metadata": {
        "id": "bm5F2RaMIMAh"
      },
      "source": [
        "# 3.Reshaping operations\n",
        "\n",
        "View\n",
        "\n",
        "PyTorch provides many ways to manipulate the shapes of tensors. The simplest example is .view(): This returns a new tensor with the same number of elements as its input, but with a different shape.\n",
        "\n",
        "We can use .view() to flatten matrices into vectors, and to convert rank-1 vectors into rank-2 row or column matrices:"
      ]
    },
    {
      "cell_type": "code",
      "metadata": {
        "id": "iLlICfw6IPvY",
        "outputId": "fa797359-1f2d-44ed-8fe9-40166fa90bb1",
        "colab": {
          "base_uri": "https://localhost:8080/",
          "height": 555
        }
      },
      "source": [
        "x = torch.tensor([[1, 2, 3], [4, 5, 6], [7, 8, 9]])\n",
        "print('Original tensor:')\n",
        "print(x)\n",
        "print('shape:', x.shape)\n",
        "\n",
        "# Flatten x into a rank 1 vector of shape (9,)\n",
        "y = x.view(9)\n",
        "print('\\nFlattened tensor:')\n",
        "print(y)\n",
        "print('shape:', y.shape)\n",
        "\n",
        "# Convert y to a rank 2 \"row vector\" of shape (1, 9)\n",
        "z = y.view(1, 9)\n",
        "print('\\nRow vector:')\n",
        "print(z)\n",
        "print('shape:', z.shape)\n",
        "\n",
        "# Convert x1 to a rank 2 \"column vector\" of shape (9, 1)\n",
        "k = y.view(9, 1)\n",
        "print('\\nColumn vector:')\n",
        "print(k)\n",
        "print('shape:', k.shape)\n",
        "\n",
        "# Convert y to a rank 3 tensor of shape (1, 3, 3):\n",
        "m = y.view(1, 3, 3)\n",
        "print('\\nRank 3 tensor:')\n",
        "print(m)\n",
        "print('shape:', m.shape)"
      ],
      "execution_count": null,
      "outputs": [
        {
          "output_type": "stream",
          "text": [
            "Original tensor:\n",
            "tensor([[1, 2, 3],\n",
            "        [4, 5, 6],\n",
            "        [7, 8, 9]])\n",
            "shape: torch.Size([3, 3])\n",
            "\n",
            "Flattened tensor:\n",
            "tensor([1, 2, 3, 4, 5, 6, 7, 8, 9])\n",
            "shape: torch.Size([9])\n",
            "\n",
            "Row vector:\n",
            "tensor([[1, 2, 3, 4, 5, 6, 7, 8, 9]])\n",
            "shape: torch.Size([1, 9])\n",
            "\n",
            "Column vector:\n",
            "tensor([[1],\n",
            "        [2],\n",
            "        [3],\n",
            "        [4],\n",
            "        [5],\n",
            "        [6],\n",
            "        [7],\n",
            "        [8],\n",
            "        [9]])\n",
            "shape: torch.Size([9, 1])\n",
            "\n",
            "Rank 3 tensor:\n",
            "tensor([[[1, 2, 3],\n",
            "         [4, 5, 6],\n",
            "         [7, 8, 9]]])\n",
            "shape: torch.Size([1, 3, 3])\n"
          ],
          "name": "stdout"
        }
      ]
    },
    {
      "cell_type": "code",
      "metadata": {
        "id": "J3mYHee-LAb4",
        "outputId": "98639085-4dd9-41bb-9137-9fc575ff07d0",
        "colab": {
          "base_uri": "https://localhost:8080/",
          "height": 260
        }
      },
      "source": [
        "# We can reuse these functions for tensors of different shapes\n",
        "x = torch.tensor([[1, 2, 3], [4, 5, 6],[7, 8, 9],[10, 11, 12]])\n",
        "y = x.view(-1, )\n",
        "z = x.view(-1, 2)\n",
        "\n",
        "print('x:')\n",
        "print(x)\n",
        "\n",
        "print('y:')\n",
        "print(y)\n",
        "\n",
        "print('z:')\n",
        "print(z)"
      ],
      "execution_count": null,
      "outputs": [
        {
          "output_type": "stream",
          "text": [
            "x:\n",
            "tensor([[ 1,  2,  3],\n",
            "        [ 4,  5,  6],\n",
            "        [ 7,  8,  9],\n",
            "        [10, 11, 12]])\n",
            "y:\n",
            "tensor([ 1,  2,  3,  4,  5,  6,  7,  8,  9, 10, 11, 12])\n",
            "z:\n",
            "tensor([[ 1,  2],\n",
            "        [ 3,  4],\n",
            "        [ 5,  6],\n",
            "        [ 7,  8],\n",
            "        [ 9, 10],\n",
            "        [11, 12]])\n"
          ],
          "name": "stdout"
        }
      ]
    },
    {
      "cell_type": "markdown",
      "metadata": {
        "id": "af1nIvXPLW1G"
      },
      "source": [
        "\n",
        "As its name implies, a tensor returned by .view() shares the same data as the input, so changes to one will affect the other and vice-versa:"
      ]
    },
    {
      "cell_type": "code",
      "metadata": {
        "id": "iJAf9D1HLbcH",
        "outputId": "638ab926-9a36-4022-9d6d-6b42dbf7f421",
        "colab": {
          "base_uri": "https://localhost:8080/",
          "height": 277
        }
      },
      "source": [
        "x = torch.tensor([[1, 2, 3], [4, 5, 6],[7, 8, 9],[10, 11, 12]])\n",
        "x_flat = x.view(-1)\n",
        "print('x before modifying:')\n",
        "print(x)\n",
        "print('x_flat before modifying:')\n",
        "print(x_flat)\n",
        "\n",
        "x[0, 0] = 10   # x[0, 0] and x_flat[0] point to the same data\n",
        "x_flat[1] = 20 # x_flat[1] and x[0, 1] point to the same data\n",
        "\n",
        "print('\\nx after modifying:')\n",
        "print(x)\n",
        "print('x_flat after modifying:')\n",
        "print(x_flat)"
      ],
      "execution_count": null,
      "outputs": [
        {
          "output_type": "stream",
          "text": [
            "x before modifying:\n",
            "tensor([[ 1,  2,  3],\n",
            "        [ 4,  5,  6],\n",
            "        [ 7,  8,  9],\n",
            "        [10, 11, 12]])\n",
            "x_flat before modifying:\n",
            "tensor([ 1,  2,  3,  4,  5,  6,  7,  8,  9, 10, 11, 12])\n",
            "\n",
            "x after modifying:\n",
            "tensor([[10, 20,  3],\n",
            "        [ 4,  5,  6],\n",
            "        [ 7,  8,  9],\n",
            "        [10, 11, 12]])\n",
            "x_flat after modifying:\n",
            "tensor([10, 20,  3,  4,  5,  6,  7,  8,  9, 10, 11, 12])\n"
          ],
          "name": "stdout"
        }
      ]
    },
    {
      "cell_type": "markdown",
      "metadata": {
        "id": "clSufUfqMvMD"
      },
      "source": [
        "# Swapping axes\n",
        "\n",
        "Another common reshape operation you might want to perform is transposing a matrix. You might be surprised if you try to transpose a matrix with .view(): The view() function takes elements in row-major order, so you cannot transpose matrices with .view().\n",
        "\n",
        "In general, you should only use .view() to add new dimensions to a tensor, or to collapse adjacent dimensions of a tensor.\n",
        "\n",
        "For other types of reshape operations, you usually need to use a function that can swap axes of a tensor. The simplest such function is .t(), specificially for transposing matrices. It is available both as a function in the torch module, and as a tensor instance method:"
      ]
    },
    {
      "cell_type": "code",
      "metadata": {
        "id": "SIPO_XPmM0fS",
        "outputId": "ebb1a1be-81ae-4dcd-d12c-11d05bcfddcf",
        "colab": {
          "base_uri": "https://localhost:8080/",
          "height": 381
        }
      },
      "source": [
        "x = torch.tensor([[1, 2, 3], [4, 5, 6],[7, 8, 9],[10, 11, 12]])\n",
        "print('Original matrix:')\n",
        "print(x)\n",
        "print('\\nTransposing with view DOES NOT WORK!')\n",
        "print(x.view(6, 2))\n",
        "print('\\nTransposed matrix:')\n",
        "print(torch.t(x))\n",
        "print(x.t())"
      ],
      "execution_count": null,
      "outputs": [
        {
          "output_type": "stream",
          "text": [
            "Original matrix:\n",
            "tensor([[ 1,  2,  3],\n",
            "        [ 4,  5,  6],\n",
            "        [ 7,  8,  9],\n",
            "        [10, 11, 12]])\n",
            "\n",
            "Transposing with view DOES NOT WORK!\n",
            "tensor([[ 1,  2],\n",
            "        [ 3,  4],\n",
            "        [ 5,  6],\n",
            "        [ 7,  8],\n",
            "        [ 9, 10],\n",
            "        [11, 12]])\n",
            "\n",
            "Transposed matrix:\n",
            "tensor([[ 1,  4,  7, 10],\n",
            "        [ 2,  5,  8, 11],\n",
            "        [ 3,  6,  9, 12]])\n",
            "tensor([[ 1,  4,  7, 10],\n",
            "        [ 2,  5,  8, 11],\n",
            "        [ 3,  6,  9, 12]])\n"
          ],
          "name": "stdout"
        }
      ]
    },
    {
      "cell_type": "markdown",
      "metadata": {
        "id": "c6rWdBYnNGcm"
      },
      "source": [
        "\n",
        "For tensors with more than two dimensions, we can use the function torch.transpose to swap arbitrary dimensions, or the .permute method to arbitrarily permute dimensions:"
      ]
    },
    {
      "cell_type": "code",
      "metadata": {
        "id": "Mxxp7smZNHOa",
        "outputId": "c89e7858-a83d-4dc2-b8ad-d58132140828",
        "colab": {
          "base_uri": "https://localhost:8080/",
          "height": 607
        }
      },
      "source": [
        "# Create a tensor of shape (2, 3, 3)\n",
        "x0 = torch.tensor([\n",
        "     [[1,  2,  3],\n",
        "      [4, 5,  6 ],\n",
        "      [7, 8, 9 ]],\n",
        "     [[10, 11, 12 ],\n",
        "      [13, 14, 15 ],\n",
        "      [16, 17, 18]]])\n",
        "print('Original tensor:')\n",
        "print(x0)\n",
        "print('shape:', x0.shape)\n",
        "\n",
        "# Swap axes 0 and 1; shape is (3, 2, 3)\n",
        "x1 = x0.transpose(0, 1)\n",
        "print('\\nSwap axes 0 and 1:')\n",
        "print(x1)\n",
        "print(x1.shape)\n",
        "\n",
        "# Permute axes; the argument (1, 2, 0) means:\n",
        "# - Make the old dimension 1 appear at dimension 0;\n",
        "# - Make the old dimension 2 appear at dimension 1;\n",
        "# - Make the old dimension 0 appear at dimension 2\n",
        "# This results in a tensor of shape (3, 4, 2)\n",
        "x2 = x0.permute(1, 2, 0)\n",
        "print('\\nPermute axes')\n",
        "print(x2)\n",
        "print('shape:', x2.shape)"
      ],
      "execution_count": null,
      "outputs": [
        {
          "output_type": "stream",
          "text": [
            "Original tensor:\n",
            "tensor([[[ 1,  2,  3],\n",
            "         [ 4,  5,  6],\n",
            "         [ 7,  8,  9]],\n",
            "\n",
            "        [[10, 11, 12],\n",
            "         [13, 14, 15],\n",
            "         [16, 17, 18]]])\n",
            "shape: torch.Size([2, 3, 3])\n",
            "\n",
            "Swap axes 0 and 1:\n",
            "tensor([[[ 1,  2,  3],\n",
            "         [10, 11, 12]],\n",
            "\n",
            "        [[ 4,  5,  6],\n",
            "         [13, 14, 15]],\n",
            "\n",
            "        [[ 7,  8,  9],\n",
            "         [16, 17, 18]]])\n",
            "torch.Size([3, 2, 3])\n",
            "\n",
            "Permute axes\n",
            "tensor([[[ 1, 10],\n",
            "         [ 2, 11],\n",
            "         [ 3, 12]],\n",
            "\n",
            "        [[ 4, 13],\n",
            "         [ 5, 14],\n",
            "         [ 6, 15]],\n",
            "\n",
            "        [[ 7, 16],\n",
            "         [ 8, 17],\n",
            "         [ 9, 18]]])\n",
            "shape: torch.Size([3, 3, 2])\n"
          ],
          "name": "stdout"
        }
      ]
    },
    {
      "cell_type": "markdown",
      "metadata": {
        "id": "qDiaQ0qUQj3D"
      },
      "source": [
        "# Contiguous tensors\n",
        "\n",
        "Some combinations of reshaping operations will fail with cryptic errors. The exact reasons for this have to do with the way that tensors and views of tensors are implemented, and are beyond the scope of this assignment. However if we're curious, this blog post by Edward Yang gives a clear explanation of the problem.\n",
        "\n",
        "we can typically overcome these sorts of errors by either by calling .contiguous() before .view(), or by using .reshape() instead of .view()."
      ]
    },
    {
      "cell_type": "code",
      "metadata": {
        "id": "9aHvGSGjQ3Dp",
        "outputId": "4368f53f-5719-4267-badc-d06d8f1aa2fe",
        "colab": {
          "base_uri": "https://localhost:8080/",
          "height": 89
        }
      },
      "source": [
        "x0 = torch.randn(2, 3, 4)\n",
        "\n",
        "try:\n",
        "  # This sequence of reshape operations will crash\n",
        "  x1 = x0.transpose(1, 2).view(8, 3)\n",
        "except RuntimeError as e:\n",
        "  print(type(e), e)\n",
        "  \n",
        "# We can solve the problem using either .contiguous() or .reshape()\n",
        "x1 = x0.transpose(1, 2).contiguous().view(8, 3)\n",
        "x2 = x0.transpose(1, 2).reshape(8, 3)\n",
        "print('x1 shape: ', x1.shape)\n",
        "print('x2 shape: ', x2.shape)"
      ],
      "execution_count": null,
      "outputs": [
        {
          "output_type": "stream",
          "text": [
            "<class 'RuntimeError'> view size is not compatible with input tensor's size and stride (at least one dimension spans across two contiguous subspaces). Use .reshape(...) instead.\n",
            "x1 shape:  torch.Size([8, 3])\n",
            "x2 shape:  torch.Size([8, 3])\n"
          ],
          "name": "stdout"
        }
      ]
    },
    {
      "cell_type": "markdown",
      "metadata": {
        "id": "d7odH5taSqtv"
      },
      "source": [
        "# 4.Tensor operations\n",
        "\n",
        "Elementwise operations\n"
      ]
    },
    {
      "cell_type": "code",
      "metadata": {
        "id": "jVXCG-1rSsX6",
        "outputId": "1d463f52-f613-4c61-e9c2-05f752c111c3",
        "colab": {
          "base_uri": "https://localhost:8080/",
          "height": 416
        }
      },
      "source": [
        "x = torch.tensor([[5, 15, 13, 26]], dtype=torch.float32)\n",
        "y = torch.tensor([[7 , 9, 64, 27]], dtype=torch.float32)\n",
        "\n",
        "# Elementwise sum; these will gives the same result\n",
        "print('Elementwise sum:', x+y)\n",
        "print(torch.add(x, y))\n",
        "print(x.add(y))\n",
        "\n",
        "# Elementwise difference\n",
        "print('\\nElementwise difference:')\n",
        "print(x - y)\n",
        "print(torch.sub(x, y))\n",
        "print(x.sub(y))\n",
        "\n",
        "# Elementwise product\n",
        "print('\\nElementwise product:')\n",
        "print(x * y)\n",
        "print(torch.mul(x, y))\n",
        "print(x.mul(y))\n",
        "\n",
        "# Elementwise division\n",
        "print('\\nElementwise division')\n",
        "print(x / y)\n",
        "print(torch.div(x, y))\n",
        "print(x.div(y))\n",
        "\n",
        "# Elementwise power\n",
        "print('\\nElementwise power')\n",
        "print(x ** y)\n",
        "print(torch.pow(x, y))\n",
        "print(x.pow(y))"
      ],
      "execution_count": null,
      "outputs": [
        {
          "output_type": "stream",
          "text": [
            "Elementwise sum: tensor([[12., 24., 77., 53.]])\n",
            "tensor([[12., 24., 77., 53.]])\n",
            "tensor([[12., 24., 77., 53.]])\n",
            "\n",
            "Elementwise difference:\n",
            "tensor([[ -2.,   6., -51.,  -1.]])\n",
            "tensor([[ -2.,   6., -51.,  -1.]])\n",
            "tensor([[ -2.,   6., -51.,  -1.]])\n",
            "\n",
            "Elementwise product:\n",
            "tensor([[ 35., 135., 832., 702.]])\n",
            "tensor([[ 35., 135., 832., 702.]])\n",
            "tensor([[ 35., 135., 832., 702.]])\n",
            "\n",
            "Elementwise division\n",
            "tensor([[0.7143, 1.6667, 0.2031, 0.9630]])\n",
            "tensor([[0.7143, 1.6667, 0.2031, 0.9630]])\n",
            "tensor([[0.7143, 1.6667, 0.2031, 0.9630]])\n",
            "\n",
            "Elementwise power\n",
            "tensor([[7.8125e+04, 3.8443e+10,        inf, 1.6006e+38]])\n",
            "tensor([[7.8125e+04, 3.8443e+10,        inf, 1.6006e+38]])\n",
            "tensor([[7.8125e+04, 3.8443e+10,        inf, 1.6006e+38]])\n"
          ],
          "name": "stdout"
        }
      ]
    },
    {
      "cell_type": "code",
      "metadata": {
        "id": "edp9xgreUsic",
        "outputId": "78522d2b-44b5-4fed-a669-eb31c236d88a",
        "colab": {
          "base_uri": "https://localhost:8080/",
          "height": 173
        }
      },
      "source": [
        "x = torch.tensor([[81, 24.5, 0.996, 4]], dtype=torch.float32)\n",
        "\n",
        "print('Square root:')\n",
        "print(torch.sqrt(x))\n",
        "print(x.sqrt())\n",
        "\n",
        "print('\\nTrig functions:')\n",
        "print(torch.sin(x))\n",
        "print(x.sin())\n",
        "print(torch.cos(x))\n",
        "print(x.cos())"
      ],
      "execution_count": null,
      "outputs": [
        {
          "output_type": "stream",
          "text": [
            "Square root:\n",
            "tensor([[9.0000, 4.9497, 0.9980, 2.0000]])\n",
            "tensor([[9.0000, 4.9497, 0.9980, 2.0000]])\n",
            "\n",
            "Trig functions:\n",
            "tensor([[-0.6299, -0.5914,  0.8393, -0.7568]])\n",
            "tensor([[-0.6299, -0.5914,  0.8393, -0.7568]])\n",
            "tensor([[ 0.7767,  0.8064,  0.5437, -0.6536]])\n",
            "tensor([[ 0.7767,  0.8064,  0.5437, -0.6536]])\n"
          ],
          "name": "stdout"
        }
      ]
    },
    {
      "cell_type": "markdown",
      "metadata": {
        "id": "tnIs5cZgU0ok"
      },
      "source": [
        "\n",
        "Reduction operations\n",
        "\n",
        "The simplest reduction operation is summation. We can use the .sum() function to reduce either an entire tensor, or to reduce along only one dimension of the tensor using the dim argument:"
      ]
    },
    {
      "cell_type": "code",
      "metadata": {
        "id": "Hp_U290bU1Xn",
        "outputId": "69ee4e4d-7d2a-4d81-c325-a034b301acdf",
        "colab": {
          "base_uri": "https://localhost:8080/",
          "height": 277
        }
      },
      "source": [
        "a = torch.tensor([[10, 13.22, 82.57], \n",
        "                  [31, 17.5, 0.87]], dtype=torch.float32)\n",
        "print('Original tensor:')\n",
        "print(a)\n",
        "\n",
        "print('\\nSum over entire tensor:')\n",
        "print(torch.sum(a))\n",
        "print(a.sum())\n",
        "\n",
        "# We can sum over each row:\n",
        "print('\\nSum of each row:')\n",
        "print(torch.sum(a, dim=0))\n",
        "print(x.sum(dim=0))\n",
        "\n",
        "# Sum over each column:\n",
        "print('\\nSum of each column:')\n",
        "print(torch.sum(a, dim=1))\n",
        "print(a.sum(dim=1))"
      ],
      "execution_count": null,
      "outputs": [
        {
          "output_type": "stream",
          "text": [
            "Original tensor:\n",
            "tensor([[10.0000, 13.2200, 82.5700],\n",
            "        [31.0000, 17.5000,  0.8700]])\n",
            "\n",
            "Sum over entire tensor:\n",
            "tensor(155.1600)\n",
            "tensor(155.1600)\n",
            "\n",
            "Sum of each row:\n",
            "tensor([41.0000, 30.7200, 83.4400])\n",
            "tensor([81.0000, 24.5000,  0.9960,  4.0000])\n",
            "\n",
            "Sum of each column:\n",
            "tensor([105.7900,  49.3700])\n",
            "tensor([105.7900,  49.3700])\n"
          ],
          "name": "stdout"
        }
      ]
    },
    {
      "cell_type": "code",
      "metadata": {
        "id": "XTyOthDLWK1L",
        "outputId": "d864458e-3412-455d-e969-e40749b63ca3",
        "colab": {
          "base_uri": "https://localhost:8080/",
          "height": 191
        }
      },
      "source": [
        "\n",
        "# Finding the overall minimum only returns a single value\n",
        "print('\\nOverall minimum: ', a.min())\n",
        "\n",
        "# Compute the minimum along each column; we get both the value and location:\n",
        "# The minimum of the first column is 2, and it appears at index 0;\n",
        "# the minimum of the second column is 3 and it appears at index 1; etc\n",
        "col_min_vals, col_min_idxs = a.min(dim=0)\n",
        "print('\\nMinimum along each column:')\n",
        "print('values:', col_min_vals)\n",
        "print('idxs:', col_min_idxs)\n",
        " \n",
        "# Compute the minimum along each row; we get both the value and location \n",
        "row_min_vals, row_min_idxs = a.min(dim=1)\n",
        "print('\\nMinimum along each row:')\n",
        "print('values:', row_min_vals)\n",
        "print('idxs:', row_min_idxs)"
      ],
      "execution_count": null,
      "outputs": [
        {
          "output_type": "stream",
          "text": [
            "\n",
            "Overall minimum:  tensor(0.8700)\n",
            "\n",
            "Minimum along each column:\n",
            "values: tensor([10.0000, 13.2200,  0.8700])\n",
            "idxs: tensor([0, 0, 1])\n",
            "\n",
            "Minimum along each row:\n",
            "values: tensor([10.0000,  0.8700])\n",
            "idxs: tensor([0, 2])\n"
          ],
          "name": "stdout"
        }
      ]
    },
    {
      "cell_type": "code",
      "metadata": {
        "id": "jTIOZSPjWRwn",
        "outputId": "e65fcfad-683b-4b2e-b182-dda11c306193",
        "colab": {
          "base_uri": "https://localhost:8080/",
          "height": 87
        }
      },
      "source": [
        "x = torch.randn(12, 55, 56, 122, 64)\n",
        "print(x.shape)\n",
        "\n",
        "# Take the mean over dimension 1; shape is now (12, 56, 122, 64)\n",
        "x = x.mean(dim=1)\n",
        "print(x.shape)\n",
        "\n",
        "# Take the sum over dimension 2; shape is now (12, 56, 64)\n",
        "x = x.sum(dim=2)\n",
        "print(x.shape)\n",
        "\n",
        "# Take the mean over dimension 1, but keep the dimension from being eliminated\n",
        "# by passing keepdim=True; shape is now (12, 1, 64)\n",
        "x = x.mean(dim=1, keepdim=True)\n",
        "print(x.shape)"
      ],
      "execution_count": null,
      "outputs": [
        {
          "output_type": "stream",
          "text": [
            "torch.Size([12, 55, 56, 122, 64])\n",
            "torch.Size([12, 56, 122, 64])\n",
            "torch.Size([12, 56, 64])\n",
            "torch.Size([12, 1, 64])\n"
          ],
          "name": "stdout"
        }
      ]
    },
    {
      "cell_type": "markdown",
      "metadata": {
        "id": "TvZa3jDBW66n"
      },
      "source": [
        "Matrix operations\n",
        "\n",
        "PyTorch provides a number of linear algebra functions that compute different types of vector and matrix products. The most commonly used are:\n",
        "\n",
        "torch.dot: Computes inner product of vectors\n",
        "torch.mm: Computes matrix-matrix products\n",
        "torch.mv: Computes matrix-vector products\n",
        "torch.addmm / torch.addmv: Computes matrix-matrix and matrix-vector multiplications plus a bias\n",
        "torch.bmm / torch.baddmm: Batched versions of torch.mm and torch.addmm, respectively\n",
        "torch.matmul: General matrix product that performs different operations depending on the rank of the inputs; this is similar to np.dot in numpy."
      ]
    },
    {
      "cell_type": "code",
      "metadata": {
        "id": "IF_ZQIkrW3T7",
        "outputId": "ebbab303-aeba-4cf4-bd27-750b8e6efd6b",
        "colab": {
          "base_uri": "https://localhost:8080/",
          "height": 243
        }
      },
      "source": [
        "m = torch.tensor([15, 22, 10], dtype=torch.float32)\n",
        "n = torch.tensor([48, 122, 56], dtype=torch.float32)\n",
        "\n",
        "# Inner product of vectors\n",
        "print('Dot products:')\n",
        "print(torch.dot(m, n))\n",
        "print(m.dot(n))\n",
        "\n",
        "# we use mm for matrix-matrix products:\n",
        "x = torch.tensor([[1,2,3],[4,5,6]], dtype=torch.float32)\n",
        "y = torch.tensor([[7,8],[9,10],[11,12]], dtype=torch.float32)\n",
        "print('\\nMatrix-matrix product:')\n",
        "print(torch.mm(x, y))\n",
        "print(x.mm(y))\n",
        "\n",
        "# Matrix-vector multiply with torch.mv produces a rank-1 output\n",
        "print('\\nMatrix-vector product with torch.mv (rank 1 output)')\n",
        "print(torch.mv(x, m))\n",
        "print(x.mv(m))"
      ],
      "execution_count": null,
      "outputs": [
        {
          "output_type": "stream",
          "text": [
            "Dot products:\n",
            "tensor(3964.)\n",
            "tensor(3964.)\n",
            "\n",
            "Matrix-matrix product:\n",
            "tensor([[ 58.,  64.],\n",
            "        [139., 154.]])\n",
            "tensor([[ 58.,  64.],\n",
            "        [139., 154.]])\n",
            "\n",
            "Matrix-vector product with torch.mv (rank 1 output)\n",
            "tensor([ 89., 230.])\n",
            "tensor([ 89., 230.])\n"
          ],
          "name": "stdout"
        }
      ]
    },
    {
      "cell_type": "markdown",
      "metadata": {
        "id": "tIVMi98qY9dk"
      },
      "source": [
        "# 5.Broadcasting\n",
        "\n",
        "Broadcasting is a powerful mechanism that allows PyTorch to work with arrays of different shapes when performing arithmetic operations. Frequently we have a smaller tensor and a larger tensor, and we want to use the smaller tensor multiple times to perform some operation on the larger tensor."
      ]
    },
    {
      "cell_type": "code",
      "metadata": {
        "id": "3u8i9r9LZCSX",
        "outputId": "eddd2748-f532-49d8-d621-d9503955f9f1",
        "colab": {
          "base_uri": "https://localhost:8080/",
          "height": 87
        }
      },
      "source": [
        "\n",
        "# We will add the vector v to each row of the matrix x,\n",
        "# storing the result in the matrix y\n",
        "x = torch.tensor([[15,22,31,45], [200,133,47,65], [8,19,23,48], [18, 252, 546,21]])\n",
        "v = torch.tensor([21, 16, 57, 25])\n",
        "y = torch.zeros_like(x)   # Create an empty matrix with the same shape as x\n",
        "\n",
        "# Add the vector v to each row of the matrix x with an explicit loop\n",
        "for i in range(4):\n",
        "    y[i, :] = x[i, :] + v\n",
        "print(y)"
      ],
      "execution_count": null,
      "outputs": [
        {
          "output_type": "stream",
          "text": [
            "tensor([[ 36,  38,  88,  70],\n",
            "        [221, 149, 104,  90],\n",
            "        [ 29,  35,  80,  73],\n",
            "        [ 39, 268, 603,  46]])\n"
          ],
          "name": "stdout"
        }
      ]
    },
    {
      "cell_type": "code",
      "metadata": {
        "id": "FkombGFKaCF6",
        "outputId": "e77aec6c-9a6e-40e3-ee82-4a642bbaf0e6",
        "colab": {
          "base_uri": "https://localhost:8080/",
          "height": 87
        }
      },
      "source": [
        "vv = v.repeat((4, 1))  # Stack 4 copies of v on top of each other\n",
        "print(vv)             "
      ],
      "execution_count": null,
      "outputs": [
        {
          "output_type": "stream",
          "text": [
            "tensor([[21, 16, 57, 25],\n",
            "        [21, 16, 57, 25],\n",
            "        [21, 16, 57, 25],\n",
            "        [21, 16, 57, 25]])\n"
          ],
          "name": "stdout"
        }
      ]
    },
    {
      "cell_type": "code",
      "metadata": {
        "id": "sjvS6oBNaJxg",
        "outputId": "abd56bbb-6e3c-40a1-a552-3b0fd3385552",
        "colab": {
          "base_uri": "https://localhost:8080/",
          "height": 87
        }
      },
      "source": [
        "\n",
        "y = x + vv  # Add x and vv elementwise\n",
        "print(y)"
      ],
      "execution_count": null,
      "outputs": [
        {
          "output_type": "stream",
          "text": [
            "tensor([[ 36,  38,  88,  70],\n",
            "        [221, 149, 104,  90],\n",
            "        [ 29,  35,  80,  73],\n",
            "        [ 39, 268, 603,  46]])\n"
          ],
          "name": "stdout"
        }
      ]
    },
    {
      "cell_type": "code",
      "metadata": {
        "id": "guyTlE_XaNK-",
        "outputId": "e907c56d-d7e8-4117-a8d1-848604077e85",
        "colab": {
          "base_uri": "https://localhost:8080/",
          "height": 87
        }
      },
      "source": [
        "# We will add the vector v to each row of the matrix x,\n",
        "# storing the result in the matrix y\n",
        "x = torch.tensor([[1,2,3], [4,5,6], [7,8,9], [10, 11, 12]])\n",
        "v = torch.tensor([1, 0, 1])\n",
        "y = x + v  # Add v to each row of x using broadcasting\n",
        "print(y)"
      ],
      "execution_count": null,
      "outputs": [
        {
          "output_type": "stream",
          "text": [
            "tensor([[ 2,  2,  4],\n",
            "        [ 5,  5,  7],\n",
            "        [ 8,  8, 10],\n",
            "        [11, 11, 13]])\n"
          ],
          "name": "stdout"
        }
      ]
    },
    {
      "cell_type": "code",
      "metadata": {
        "id": "a2e0rxDGbCK6",
        "outputId": "729d14d4-b96b-4877-8771-a79cff548be3",
        "colab": {
          "base_uri": "https://localhost:8080/",
          "height": 87
        }
      },
      "source": [
        "# Compute outer product of vectors\n",
        "m = torch.tensor([1, 2, 3, 4])  \n",
        "n = torch.tensor([5, 6, 7, 8, 9])    \n",
        "# To compute an outer product, we first reshape mto be a column\n",
        "# vector of shape (3, 1); we can then broadcast it against n to yield\n",
        "# an output of shape (3, 2), which is the outer product of m and n:\n",
        "print(m.view(4, 1) * n)"
      ],
      "execution_count": null,
      "outputs": [
        {
          "output_type": "stream",
          "text": [
            "tensor([[ 5,  6,  7,  8,  9],\n",
            "        [10, 12, 14, 16, 18],\n",
            "        [15, 18, 21, 24, 27],\n",
            "        [20, 24, 28, 32, 36]])\n"
          ],
          "name": "stdout"
        }
      ]
    },
    {
      "cell_type": "markdown",
      "metadata": {
        "id": "xJrJIffTbt27"
      },
      "source": [
        "# 6.Running on GPU\n",
        "\n",
        "PyTorch can use graphics processing units (GPUs) to accelerate its tensor operations.\n"
      ]
    },
    {
      "cell_type": "code",
      "metadata": {
        "id": "PRPnv2JIbweS",
        "outputId": "ac1a6723-9ab0-4cfb-d548-154f88df765a",
        "colab": {
          "base_uri": "https://localhost:8080/",
          "height": 35
        }
      },
      "source": [
        "import torch\n",
        "\n",
        "if torch.cuda.is_available:\n",
        "  print('PyTorch can use GPUs!')\n",
        "else:\n",
        "  print('PyTorch cannot use GPUs.')"
      ],
      "execution_count": null,
      "outputs": [
        {
          "output_type": "stream",
          "text": [
            "PyTorch can use GPUs!\n"
          ],
          "name": "stdout"
        }
      ]
    },
    {
      "cell_type": "code",
      "metadata": {
        "id": "QdhcP6t4cLuL",
        "outputId": "3e5a322d-3b38-45ea-d1f4-33bd760aaf42",
        "colab": {
          "base_uri": "https://localhost:8080/",
          "height": 139
        }
      },
      "source": [
        "# Construct a tensor on the CPU\n",
        "x0 = torch.tensor([[1, 2], [3, 4]], dtype=torch.float32)\n",
        "print('x0 device:', x0.device)\n",
        "\n",
        "# Move it to the GPU using .to()\n",
        "x1 = x0.to('cuda')\n",
        "print('x1 device:', x1.device)\n",
        "\n",
        "# Move it to the GPU using .cuda()\n",
        "x2 = x0.cuda()\n",
        "print('x2 device:', x2.device)\n",
        "\n",
        "# Move it back to the CPU using .to()\n",
        "x3 = x1.to('cpu')\n",
        "print('x3 device:', x3.device)\n",
        "\n",
        "# Move it back to the CPU using .cpu()\n",
        "x4 = x2.cpu()\n",
        "print('x4 device:', x4.device)\n",
        "\n",
        "# We can construct tensors directly on the GPU as well\n",
        "y = torch.tensor([[1, 2, 3], [4, 5, 6]], dtype=torch.float64, device='cuda')\n",
        "print('y device / dtype:', y.device, y.dtype)\n",
        "\n",
        "# Calling x.to(y) where y is a tensor will return a copy of x with the same\n",
        "# device and dtype as y\n",
        "x5 = x0.to(y)\n",
        "print('x5 device / dtype:', x5.device, x5.dtype)"
      ],
      "execution_count": null,
      "outputs": [
        {
          "output_type": "stream",
          "text": [
            "x0 device: cpu\n",
            "x1 device: cuda:0\n",
            "x2 device: cuda:0\n",
            "x3 device: cpu\n",
            "x4 device: cpu\n",
            "y device / dtype: cuda:0 torch.float64\n",
            "x5 device / dtype: cuda:0 torch.float64\n"
          ],
          "name": "stdout"
        }
      ]
    },
    {
      "cell_type": "code",
      "metadata": {
        "id": "eEbeYLa-cN75",
        "outputId": "0bc47683-1ffe-4585-c133-e44ed3a7f917",
        "colab": {
          "base_uri": "https://localhost:8080/",
          "height": 87
        }
      },
      "source": [
        "import time\n",
        "\n",
        "a_cpu = torch.randn(10000, 10000, dtype=torch.float32)\n",
        "b_cpu = torch.randn(10000, 10000, dtype=torch.float32)\n",
        "\n",
        "a_gpu = a_cpu.cuda()\n",
        "b_gpu = b_cpu.cuda()\n",
        "torch.cuda.synchronize()\n",
        "\n",
        "t0 = time.time()\n",
        "c_cpu = a_cpu + b_cpu\n",
        "t1 = time.time()\n",
        "c_gpu = a_gpu + b_gpu\n",
        "torch.cuda.synchronize()\n",
        "t2 = time.time()\n",
        "\n",
        "# Check that they computed the same thing\n",
        "diff = (c_gpu.cpu() - c_cpu).abs().max().item()\n",
        "print('Max difference between c_gpu and c_cpu:', diff)\n",
        "\n",
        "cpu_time = 1000.0 * (t1 - t0)\n",
        "gpu_time = 1000.0 * (t2 - t1)\n",
        "print('CPU time: %.2f ms' % cpu_time)\n",
        "print('GPU time: %.2f ms' % gpu_time)\n",
        "print('GPU speedup: %.2f x' % (cpu_time / gpu_time))"
      ],
      "execution_count": null,
      "outputs": [
        {
          "output_type": "stream",
          "text": [
            "Max difference between c_gpu and c_cpu: 0.0\n",
            "CPU time: 244.77 ms\n",
            "GPU time: 7.23 ms\n",
            "GPU speedup: 33.85 x\n"
          ],
          "name": "stdout"
        }
      ]
    }
  ]
}